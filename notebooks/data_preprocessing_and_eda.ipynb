{
 "cells": [
  {
   "cell_type": "markdown",
   "id": "63b338b5",
   "metadata": {},
   "source": [
    "# Data Extraction and Loading"
   ]
  },
  {
   "cell_type": "code",
   "execution_count": null,
   "id": "546173af",
   "metadata": {},
   "outputs": [],
   "source": [
    "import yfinance as yf\n",
    "import pandas as pd\n",
    "import numpy as np\n",
    "import matplotlib.pyplot as plt\n",
    "import seaborn as sns\n",
    "from statsmodels.tsa.stattools import adfuller\n",
    "from scipy.stats import norm\n",
    "\n",
    "# Set plot style\n",
    "plt.style.use('seaborn-v0_8-whitegrid')\n",
    "\n",
    "# 1. Extract Data\n",
    "tickers = ['TSLA', 'BND', 'SPY']\n",
    "start_date = '2015-07-01'\n",
    "end_date = '2025-07-31'\n",
    "\n",
    "# Fetch the data using yfinance\n",
    "try:\n",
    "    data = yf.download(tickers, start=start_date, end=end_date)\n",
    "    print(\"Data fetched successfully!\")\n",
    "except Exception as e:\n",
    "    print(f\"An error occurred: {e}\")\n",
    "\n",
    "# Display the first few rows of the downloaded data\n",
    "print(\"Data Head:\")\n",
    "print(data.head())\n",
    "\n",
    "# Mostly interested in the Adjusted Close prices\n",
    "adj_close_df = data['Adj Close'].copy()\n",
    "\n",
    "print(\"\\nAdjusted Close Prices Head:\")\n",
    "print(adj_close_df.head())"
   ]
  }
 ],
 "metadata": {
  "kernelspec": {
   "display_name": "venv (3.13.3)",
   "language": "python",
   "name": "python3"
  },
  "language_info": {
   "codemirror_mode": {
    "name": "ipython",
    "version": 3
   },
   "file_extension": ".py",
   "mimetype": "text/x-python",
   "name": "python",
   "nbconvert_exporter": "python",
   "pygments_lexer": "ipython3",
   "version": "3.13.3"
  }
 },
 "nbformat": 4,
 "nbformat_minor": 5
}
